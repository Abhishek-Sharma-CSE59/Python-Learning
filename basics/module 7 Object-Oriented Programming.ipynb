{
 "cells": [
  {
   "cell_type": "markdown",
   "metadata": {},
   "source": [
    "**Module 7 : Object Oriented Progamming (OOP)**\n",
    "\n",
    "- Introduction to OOPs : A programming paradigm bases on \"object\" , which can contain data and code.\n",
    "- Classes and Objects : A class is a blueprint for creating objects. An object is an instance of a class.\n",
    "- Encapsulation : Bundling data and methods that operateon that data within a class.\n",
    "- Decorators : Modify the behavior of functions or methods.\n",
    "- Class methods and Static Members : Methods that are bound to the class rather than the instance.\n",
    "- Inheritance : Creating new classes based on existing ones.\n",
    "- Types of Inheritance : Single, multiple, multilevel,etc.\n",
    "- Polymorphism : The ability of objects of different classes to respond to the same method call in their own specific ways.\n",
    "- Abstraction : Hiding complex implementation details and exposing omlu essential information.\n",
    "- Operator Overloading : Defining how operators (e.g., + , - , * ) behave with objects of your classes.\n",
    "- Abstract class : A class that cannot be instantiated directly and serves as a blueprint for other classes.\n",
    "\n",
    "OOP is important for structuring larger data science projects and for working with some ML libraries that are designed with OOP principles."
   ]
  },
  {
   "cell_type": "markdown",
   "metadata": {},
   "source": [
    "**Classes and Objects**"
   ]
  },
  {
   "cell_type": "code",
   "execution_count": 4,
   "metadata": {},
   "outputs": [
    {
     "name": "stdout",
     "output_type": "stream",
     "text": [
      "Woffer\n",
      "Woof!\n"
     ]
    }
   ],
   "source": [
    "class dog:  #class definition\n",
    "    def __init__(self,name,bread):  #Constructor (initializer)\n",
    "        self.name = name\n",
    "        self.bread = bread\n",
    "\n",
    "    def bark(self):     #Method\n",
    "        print(\"Woof!\") \n",
    "\n",
    "my_dog = dog(\"Woffer\", \"german\")\n",
    "print(my_dog.name)\n",
    "my_dog.bark()"
   ]
  },
  {
   "cell_type": "markdown",
   "metadata": {},
   "source": [
    "**Encapsulation**"
   ]
  },
  {
   "cell_type": "code",
   "execution_count": 2,
   "metadata": {},
   "outputs": [
    {
     "name": "stdout",
     "output_type": "stream",
     "text": [
      "Balance before adding 500 :  1000\n",
      "Balance after adding 500 :  1500\n"
     ]
    }
   ],
   "source": [
    "class BankAccount:\n",
    "    def __init__(self,balance):\n",
    "        self.__balance = balance     #Private attribute (using word mangling)\n",
    "\n",
    "    def deposit(self,amount):\n",
    "        if amount>0:\n",
    "            self.__balance += amount\n",
    "    \n",
    "    def get_balance(self):\n",
    "        return self.__balance\n",
    "\n",
    "account = BankAccount(1000)\n",
    "print(\"Balance before adding 500 : \",account.get_balance())     #Accesing the balance throught a method\n",
    "account.deposit(500)\n",
    "print(\"Balance after adding 500 : \",account.get_balance())"
   ]
  },
  {
   "cell_type": "markdown",
   "metadata": {},
   "source": [
    "**Decorators**\n"
   ]
  },
  {
   "cell_type": "code",
   "execution_count": 9,
   "metadata": {},
   "outputs": [
    {
     "name": "stdout",
     "output_type": "stream",
     "text": [
      "Before the function is called.\n",
      "Hello\n",
      "After the function is called.\n",
      "Before the function is called.\n",
      "Bye\n",
      "After the function is called.\n"
     ]
    }
   ],
   "source": [
    "def my_decorator(func):\n",
    "    def wrapper():\n",
    "        print(\"Before the function is called.\")\n",
    "        func()\n",
    "        print(\"After the function is called.\")\n",
    "    return wrapper\n",
    "\n",
    "@my_decorator   #Applying the decorator\n",
    "def say_hello():\n",
    "    print(\"Hello\")\n",
    "\n",
    "\n",
    "@my_decorator   #Applying the decorator\n",
    "def say_bye():\n",
    "    print(\"Bye\")\n",
    "\n",
    "say_hello()\n",
    "say_bye()"
   ]
  },
  {
   "cell_type": "markdown",
   "metadata": {},
   "source": [
    "**Class Methods and Static Methods**"
   ]
  },
  {
   "cell_type": "code",
   "execution_count": 14,
   "metadata": {},
   "outputs": [
    {
     "name": "stdout",
     "output_type": "stream",
     "text": [
      "This is a class Variable\n",
      "11\n",
      "24\n"
     ]
    }
   ],
   "source": [
    "class MathUtils:\n",
    "    class_variable = \"This is a class Variable\"\n",
    "    class_variable2 = \"This is a second class variable\"\n",
    "\n",
    "    def __init__(self,value):\n",
    "        self.instance_variable = value\n",
    "\n",
    "    @classmethod\n",
    "    def add(cs,x,y):\n",
    "        print(cs.class_variable)\n",
    "        return x+y\n",
    "    \n",
    "    @staticmethod\n",
    "    def multiply(x,y):\n",
    "        return x*y\n",
    "    \n",
    "print(MathUtils.add(5,6))  #calling a class method\n",
    "print(MathUtils.multiply(4,6))    #calling a static method\n"
   ]
  },
  {
   "cell_type": "markdown",
   "metadata": {},
   "source": [
    "**Inheritance**"
   ]
  },
  {
   "cell_type": "code",
   "execution_count": 2,
   "metadata": {},
   "outputs": [
    {
     "name": "stdout",
     "output_type": "stream",
     "text": [
      "cat\n",
      "Meow\n"
     ]
    }
   ],
   "source": [
    "class animal:\n",
    "    def __init__(self,name):\n",
    "        self.name = name\n",
    "    \n",
    "    def speak(self):\n",
    "        print(\"Generic animal sound \")\n",
    "\n",
    "class cat (animal):\n",
    "    def speak(self):\n",
    "        print(\"Meow\")\n",
    "\n",
    "my_cat = cat(\"Veronica\")\n",
    "print(cat.__name__)\n",
    "my_cat.speak()"
   ]
  },
  {
   "cell_type": "markdown",
   "metadata": {},
   "source": [
    "**Types of Inheritance (Multiple Inheritance)**"
   ]
  },
  {
   "cell_type": "code",
   "execution_count": 3,
   "metadata": {},
   "outputs": [
    {
     "name": "stdout",
     "output_type": "stream",
     "text": [
      "Swimming...\n"
     ]
    },
    {
     "ename": "AttributeError",
     "evalue": "'duck' object has no attribute 'swim'",
     "output_type": "error",
     "traceback": [
      "\u001b[1;31m---------------------------------------------------------------------------\u001b[0m",
      "\u001b[1;31mAttributeError\u001b[0m                            Traceback (most recent call last)",
      "Cell \u001b[1;32mIn[3], line 13\u001b[0m\n\u001b[0;32m     10\u001b[0m     \u001b[38;5;28;01mpass\u001b[39;00m\n\u001b[0;32m     12\u001b[0m my_duck \u001b[38;5;241m=\u001b[39m duck()\n\u001b[1;32m---> 13\u001b[0m \u001b[43mmy_duck\u001b[49m\u001b[38;5;241;43m.\u001b[39;49m\u001b[43mswim\u001b[49m()\n\u001b[0;32m     14\u001b[0m my_duck\u001b[38;5;241m.\u001b[39mwalk()\n",
      "\u001b[1;31mAttributeError\u001b[0m: 'duck' object has no attribute 'swim'"
     ]
    }
   ],
   "source": [
    "class Swimmer:\n",
    "    def __init__(self):\n",
    "        print(\"Swimming...\")\n",
    "    \n",
    "class Walker:\n",
    "    def walk(self):\n",
    "        print(\"Walking...\")\n",
    "\n",
    "class duck(Swimmer,Walker):     #Duck INherits from both Swimmer and Walker\n",
    "    pass\n",
    "\n",
    "my_duck = duck()\n",
    "my_duck.swim()\n",
    "my_duck.walk()"
   ]
  }
 ],
 "metadata": {
  "kernelspec": {
   "display_name": "Python 3",
   "language": "python",
   "name": "python3"
  },
  "language_info": {
   "codemirror_mode": {
    "name": "ipython",
    "version": 3
   },
   "file_extension": ".py",
   "mimetype": "text/x-python",
   "name": "python",
   "nbconvert_exporter": "python",
   "pygments_lexer": "ipython3",
   "version": "3.12.4"
  }
 },
 "nbformat": 4,
 "nbformat_minor": 2
}
