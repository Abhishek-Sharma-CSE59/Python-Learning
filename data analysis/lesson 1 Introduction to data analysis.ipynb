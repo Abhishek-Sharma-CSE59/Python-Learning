{
 "cells": [
  {
   "cell_type": "markdown",
   "metadata": {},
   "source": [
    "**What is data Analysis**\n",
    "\n",
    "- Data Analysis in Python is the technique of collecting , transforming, and organizing data to make future predictions and informed data-driven decisions. it also helps to find possible solutions for a business problem\n",
    "\n",
    "- key steps:\n",
    "    - Data collection\n",
    "    - Data Cleaning and processing \n",
    "    - Exploratory Data analysis (EDA)\n",
    "    - Data Visualization\n",
    "    - Feature Engineering\n",
    "    - Model Building (If ML is involved)\n",
    "\n",
    "- Real World Application:\n",
    "    - Business : Customer Segmentation, Sales forecasting.\n",
    "    - Healthcare : Disease prediction, patient trend analysis.\n",
    "    - Finance : Fraud Detection, risk assessment."
   ]
  },
  {
   "cell_type": "markdown",
   "metadata": {},
   "source": [
    "**Python Libraries for Data Analysis**\n",
    "\n",
    "We will use :\n",
    "- numpy : Numberical computing, working with arrays.\n",
    "- Pandas : Data handling, manipulation, and analysis.\n",
    "- Metaplotlib & Seaborn : Data visualization.\n",
    "- Scipy : Statical functions.\n",
    "- Scikit-Learn : ML, Data Preprocessing, Model Selection, & Evaluation."
   ]
  },
  {
   "cell_type": "code",
   "execution_count": 4,
   "metadata": {},
   "outputs": [],
   "source": [
    "# Set up Our Environment\n",
    "\n",
    "import numpy as np\n",
    "import pandas as pd\n",
    "import matplotlib.pyplot as plt\n",
    "import seaborn as sns\n",
    "import sklearn"
   ]
  }
 ],
 "metadata": {
  "kernelspec": {
   "display_name": ".venv",
   "language": "python",
   "name": "python3"
  },
  "language_info": {
   "codemirror_mode": {
    "name": "ipython",
    "version": 3
   },
   "file_extension": ".py",
   "mimetype": "text/x-python",
   "name": "python",
   "nbconvert_exporter": "python",
   "pygments_lexer": "ipython3",
   "version": "3.11.2"
  }
 },
 "nbformat": 4,
 "nbformat_minor": 2
}
