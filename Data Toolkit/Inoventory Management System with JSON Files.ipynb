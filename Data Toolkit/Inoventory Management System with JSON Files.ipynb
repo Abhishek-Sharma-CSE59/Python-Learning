{
 "cells": [
  {
   "cell_type": "markdown",
   "metadata": {},
   "source": [
    "**Inoventory Management System with file/JSON**\n",
    "\n",
    "this is a great practical project that will consolidate your knowledge of File I/O, data structure, and potentially OOP.\n",
    "\n",
    "- Overview: The system will manage a list of products, their quantities, and potentially other details (price, etc).\n",
    "- Product Details: Each product can be represented as a dictionary : {\"name\": \"Product A\" , \"quantity\" : 10 , \"price\" : 25.00}\n",
    "- Updating Inventory: Reading the inventory from a file, modifying the quantities, and writing the updated inventory back to the file.\n",
    "- Adding Functionalities : Implementing features like adding new products, removing products, generating reports, etc.\n",
    "- Generating Sales: Recording sales transactions and updating the inventory accordingly.\n",
    "\n",
    "Using JSON : JSON (JavaScript Object Notation) is a common format for storing structured data.\n",
    "python's json module makes it easy to work with JSON data."
   ]
  },
  {
   "cell_type": "code",
   "execution_count": null,
   "metadata": {},
   "outputs": [],
   "source": [
    "import json\n",
    "\n",
    "data = [{\"name\":\"Product A\", \"quantity\": 10},{\"name\":\"Product B\",\"quantity\": 5}]\n",
    "\n",
    "#Writing to a JSON file:\n",
    "\n",
    "try:\n",
    "    with open(\"inventory.json\",\"w\") as file:\n",
    "        json.dump(data,file,indent=4)   #indent for pretty printing\n",
    "except Exception as e:\n",
    "    print(f\"An error occured: {e}\")\n",
    "\n",
    "# Reading from a json file\n",
    "\n",
    "try:\n",
    "    with open(\"inventory.json\",\"r\") as file:\n",
    "        loaded_data = json.load(file)\n",
    "    print(loaded_data)\n",
    "except FileNotFoundError:\n",
    "    print(\"Error: File not Found\")\n",
    "except json.JSONDecodeError:\n",
    "    print(\"Error: Invalid JSON format\")\n",
    "except Exception as e:\n",
    "    print(f\"An error occured : {e}\")"
   ]
  }
 ],
 "metadata": {
  "language_info": {
   "name": "python"
  }
 },
 "nbformat": 4,
 "nbformat_minor": 2
}
