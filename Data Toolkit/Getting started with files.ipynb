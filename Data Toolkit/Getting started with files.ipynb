{
 "cells": [
  {
   "cell_type": "markdown",
   "metadata": {},
   "source": [
    "**Getting started with files**\n",
    "\n",
    "this section covers File I/O (input/Output), which is crucial for reading data from files and writing results back.\n",
    "\n",
    "- Reading Data from Text Files:"
   ]
  },
  {
   "cell_type": "code",
   "execution_count": null,
   "metadata": {},
   "outputs": [],
   "source": [
    "try:    # Error handling\n",
    "    with open(\"my_data.txt\",\"r\") as file:   # \"r\" for reading\n",
    "        content = file.read()\n",
    "        # for line in file:     #or read line by line\n",
    "            # print(line.strip())  #remove leading/trailing whitespace\n",
    "    print(content)\n",
    "except FileNotFoundError:\n",
    "    print(\"Error: File not Found.\")\n",
    "except Exception as e:  # Catches all other exceptions\n",
    "    print(f\"An error occured: {e}\")"
   ]
  },
  {
   "cell_type": "markdown",
   "metadata": {},
   "source": [
    "- Reading Data from Text File Corpus: A corpus is a large collection of text. The same open() function can be used. if the corpus is very large, reafing it line by line is more memory-efficient.\n",
    "- Text Processing: This uses string operations and regular expressions (from Module 5 and the re module we covered). Example include removing punctuation, converting to lowercase, Tokenization(spliting into words), etc.\n",
    "- Writing Data to a Text File: "
   ]
  },
  {
   "cell_type": "code",
   "execution_count": null,
   "metadata": {},
   "outputs": [],
   "source": [
    "try: \n",
    "    with open(\"output.txt\",\"w\") as file:\n",
    "        file.write(\"This is some output.\\n\")\n",
    "        file.write(\"Another line.\\n\")\n",
    "    with open(\"output.txt\",\"a\") as file:\n",
    "        file.write(\"this line is appended\")\n",
    "except Exception as e:\n",
    "    print(f\"An error occured: {e}\")"
   ]
  },
  {
   "cell_type": "markdown",
   "metadata": {},
   "source": [
    "- Writing Data To Text File with New Lines: Use the newline character \\n to insert line breaks."
   ]
  }
 ],
 "metadata": {
  "language_info": {
   "name": "python"
  }
 },
 "nbformat": 4,
 "nbformat_minor": 2
}
